{
 "cells": [
  {
   "cell_type": "code",
   "execution_count": 1,
   "metadata": {},
   "outputs": [],
   "source": [
    "#Donation data received in csv format. Our goal is to classify individual donors as minor or major\n",
    "#based on their donation history. Major donors are those who have made a single donation of $1000 or more.\n",
    "#Once the classifier is trained, it can be used to predict existing minor donors who are likely\n",
    "#to become major donors.\n",
    "\n",
    "#We use pandas to manage the data, and a random forest classifier as our model.\n",
    "import pandas as pd\n",
    "from sklearn.metrics import roc_auc_score as roc\n",
    "from sklearn.preprocessing import OneHotEncoder, LabelEncoder\n",
    "from sklearn.ensemble import RandomForestClassifier\n",
    "from sklearn.model_selection import cross_val_score\n",
    "import numpy as np\n",
    "from sklearn.model_selection import StratifiedKFold\n",
    "import matplotlib.pyplot as plt\n",
    "import itertools\n",
    "\n",
    "#The model's outcome is evaluated with a confusion matrix.\n",
    "def confusion_matrix(predicted, truth):\n",
    "    \"\"\" Take Pandas series as input. \"\"\"\n",
    "    pred = pd.concat([predicted, truth], axis=1)\n",
    "    pred.columns = ['predicted','truth']\n",
    "    tp = len(pred[(pred['truth']==1)&(pred['predicted']==1)])\n",
    "    tn = len(pred[(pred['truth']==0)&(pred['predicted']==0)])\n",
    "    fp = len(pred[(pred['truth']==0)&(pred['predicted']==1)])\n",
    "    fn = len(pred[(pred['truth']==1)&(pred['predicted']==0)])\n",
    "    cm = np.array([[tn,fp],[fn,tp]])\n",
    "    classes = ['0','1']\n",
    "    label = {0:{1:'False Positive',0:'True Negative'},1:{0:'False Negative',1:'True Positive'}}\n",
    "\n",
    "    plt.figure(figsize=(4,4))\n",
    "    plt.imshow(cm, interpolation='nearest', cmap=plt.cm.Reds)\n",
    "    plt.title('Confusion matrix',fontsize=12)\n",
    "    #plt.colorbar()\n",
    "    tick_marks = np.arange(len(classes))\n",
    "    plt.xticks(tick_marks, classes, rotation=45)\n",
    "    plt.yticks(tick_marks, classes)\n",
    "    thresh = cm.max() / 2.\n",
    "    for i, j in itertools.product(range(cm.shape[0]), range(cm.shape[1])):\n",
    "        plt.text(j, i, '%s \\n %d'%(label[i][j],cm[i, j]),\n",
    "                 horizontalalignment=\"center\",verticalalignment=\"center\",\n",
    "                 color=\"white\" if cm[i, j] > thresh else \"black\", fontsize=12)\n",
    "    plt.tight_layout()\n",
    "    plt.ylabel('True label',fontsize=12)\n",
    "    plt.xlabel('Predicted label',fontsize=12)\n",
    "    plt.show()\n",
    "        \n",
    "    accuracy = (tp+tn)/(tp+tn+fp+fn)\n",
    "    precision = tp/(tp+fp)\n",
    "    recall = tp/(tp+fn)\n",
    "    fpr = fp/(fp+tn) # False alarm\n",
    "    fnr = fn/(fn+tp) # Miss rate\n",
    "    f1 = 2*tp/(2*tp+fp+fn)\n",
    "    \n",
    "    print('Accuracy            : %3.2f' % accuracy)\n",
    "    print('Precision           : %3.2f' % precision)\n",
    "    print('Recall              : %3.2f' % recall)\n",
    "    print('False positive rate : %3.2f' % fpr)\n",
    "    print('False negative rate : %3.2f' % fnr)\n",
    "    print('F1 score            : %3.2f' % f1)"
   ]
  },
  {
   "cell_type": "code",
   "execution_count": 2,
   "metadata": {},
   "outputs": [],
   "source": [
    "#We import the data which was cleaned and processed in the feature-engineering.ipynb file.\n",
    "#Each donor has a unique ID \"cnBioID\" used to track their interactions with the charity.\n",
    "#interaction_features.csv contains information on how many, and what type, of interations the charity \n",
    "#had with each donor for each calendar year. These features were engineered in NewFeatures.ipynb from the raw data.\n",
    "#constituents_with_target_features.csv contains additional information about the donors, including our target label,\n",
    "#whether they are a minor or major donor.\n",
    "int_df = pd.read_csv('./interaction_features.csv', dtype = {'cnBioId': str})\n",
    "date_cols = ['firstGiftDate', 'emailOptOutDate', 'onlineFirstTransDate', 'onlineLastTransDate', 'onlineLargestTransDate', 'creationDate']\n",
    "df = pd.read_csv('./constituents_with_target_features.csv', dtype = {'inRe': int, 'inLo': int}, parse_dates=date_cols,low_memory=False, infer_datetime_format=True)\n"
   ]
  },
  {
   "cell_type": "code",
   "execution_count": 3,
   "metadata": {},
   "outputs": [],
   "source": [
    "joined_df = pd.merge(df,int_df,how='left', on='cnBioId')\n",
    "#Date Encoding\n",
    "for col in date_cols:\n",
    "    joined_df[col]=joined_df[col].transform(lambda x: (x-pd.datetime(2014,4,1)).days)\n",
    "#We drop some columns deemed to be the least useful\n",
    "joined_df_dropped = joined_df.drop(columns=['cnBioId', 'deceasedDate', 'luminateid', 'target_10000', 'amount_last_year', \n",
    "                                           'cnBioIdForSpouse', 'previousPostalCodes', 'previousPostalCodes1', 'previousPostalCodes2',\n",
    "                                           'postalCode']+\n",
    "                                  ['lifetimeActions', 'lifetimeEventParticipations', 'lifetimeAppeals', 'onlineLifetimeTotalTransAmount', 'onlineLifetimeTotalTransCount'])\n",
    "# Fix misformatting\n",
    "joined_df_dropped['deceased'] = joined_df_dropped['deceased'].map({True: 1})\n",
    "\n",
    "#Separate categorical features from the rest\n",
    "cat_features = list(joined_df_dropped.columns[joined_df_dropped.dtypes == 'object'])\n",
    "joined_df_dropped.loc[:,cat_features]=joined_df_dropped.loc[:,cat_features].fillna('unknown')\n",
    "\n",
    "#Separate out our target label of major donors who have given $1000 or more.\n",
    "y= joined_df_dropped['target_1000'].values\n",
    "joined_df_dropped=joined_df_dropped.drop(columns=['target_1000'])\n",
    "\n",
    "#Normalize categorical labels, and fill in missing values.\n",
    "for col in joined_df_dropped.columns:\n",
    "    if col in cat_features:        \n",
    "        le = LabelEncoder()\n",
    "        joined_df_dropped[col]= le.fit_transform(joined_df_dropped[col].values)\n",
    "        #ohe = OneHotEncoder(handle_unknown='ignore', sparse=False)\n",
    "        #joined_df_dropped[col]= ohe.fit_transform(joined_df_dropped[col].values.reshape(-1, 1))\n",
    "    else:\n",
    "        fillval = joined_df_dropped[col].mean()\n",
    "        if not np.isnan(fillval):\n",
    "            joined_df_dropped[col]=joined_df_dropped[col].fillna(fillval)\n",
    "        else:\n",
    "            joined_df_dropped[col]=joined_df_dropped[col].fillna(0)\n",
    "        \n",
    "\n",
    "X = joined_df_dropped.values\n",
    "#This is our cleaned training data"
   ]
  },
  {
   "cell_type": "markdown",
   "metadata": {},
   "source": [
    "clf = RandomForestClassifier(n_estimators=1000, max_depth=12, random_state=42, class_weight='balanced_subsample')\n",
    "cv_result = cross_val_score(clf, X, y, cv=3, scoring='roc_auc')"
   ]
  },
  {
   "cell_type": "code",
   "execution_count": 4,
   "metadata": {},
   "outputs": [],
   "source": [
    "#We do stratified cross-validation using a random forest classifier and collect the out-of-fold predictions.\n",
    "skf = StratifiedKFold(n_splits=3)\n",
    "skf.get_n_splits(X, y)\n",
    "pred_oof = np.zeros(y.shape)\n",
    "for train_index, test_index in skf.split(X, y):\n",
    "    clf = RandomForestClassifier(n_estimators=1000, max_depth=12, random_state=42, class_weight='balanced_subsample')\n",
    "    clf.fit(X[train_index, :], y[train_index])\n",
    "    pred_oof[test_index] = clf.predict_proba(X[test_index,:])[:,1]"
   ]
  },
  {
   "cell_type": "code",
   "execution_count": 5,
   "metadata": {},
   "outputs": [
    {
     "data": {
      "text/plain": [
       "0.9397505580294869"
      ]
     },
     "execution_count": 5,
     "metadata": {},
     "output_type": "execute_result"
    }
   ],
   "source": [
    "#The AUC of ROC score\n",
    "roc(y, pred_oof)"
   ]
  },
  {
   "cell_type": "code",
   "execution_count": 6,
   "metadata": {},
   "outputs": [
    {
     "data": {
      "image/png": "[encoded data removed]",
      "text/plain": [
       "<Figure size 288x288 with 1 Axes>"
      ]
     },
     "metadata": {},
     "output_type": "display_data"
    },
    {
     "name": "stdout",
     "output_type": "stream",
     "text": [
      "Accuracy            : 0.94\n",
      "Precision           : 0.26\n",
      "Recall              : 0.70\n",
      "False positive rate : 0.05\n",
      "False negative rate : 0.30\n",
      "F1 score            : 0.38\n"
     ]
    }
   ],
   "source": [
    "#Our main goal is to maximize Recall while maintaining some Precision. We want to find as many major donors\n",
    "# as possible, since these people are responsible for a disproportionately large amount\n",
    "# of total donations. False positives are not too bad, since we may want to follow up with these\n",
    "# donors in any case.\n",
    "confusion_matrix(pd.Series(pred_oof>0.4), pd.Series(y))"
   ]
  },
  {
   "cell_type": "code",
   "execution_count": null,
   "metadata": {},
   "outputs": [],
   "source": []
  },
  {
   "cell_type": "code",
   "execution_count": null,
   "metadata": {},
   "outputs": [],
   "source": []
  }
 ],
 "metadata": {
  "kernelspec": {
   "display_name": "Python 3",
   "language": "python",
   "name": "python3"
  },
  "language_info": {
   "codemirror_mode": {
    "name": "ipython",
    "version": 3
   },
   "file_extension": ".py",
   "mimetype": "text/x-python",
   "name": "python",
   "nbconvert_exporter": "python",
   "pygments_lexer": "ipython3",
   "version": "3.6.5"
  }
 },
 "nbformat": 4,
 "nbformat_minor": 2
}
